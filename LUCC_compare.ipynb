{
 "cells": [
  {
   "cell_type": "code",
   "execution_count": 1,
   "metadata": {},
   "outputs": [],
   "source": [
    "from sklearn.metrics import classification_report, cohen_kappa_score\n",
    "from osgeo import gdal\n",
    "from pathlib import Path\n",
    "\n",
    "gdal.UseExceptions()"
   ]
  },
  {
   "cell_type": "code",
   "execution_count": 2,
   "metadata": {},
   "outputs": [],
   "source": [
    "def read_raster(filePath: str):\n",
    "    dataset = gdal.Open(filePath)\n",
    "\n",
    "    # im_proj = dataset.GetProjectionRef()\n",
    "    # im_geotrans = dataset.GetGeoTransform()\n",
    "    # print('im_proj:')\n",
    "    # print(im_proj)\n",
    "    # print('im_geotrans:')\n",
    "    # print(im_geotrans)\n",
    "\n",
    "    nXSize = dataset.RasterXSize\n",
    "    nYSize = dataset.RasterYSize\n",
    "    im_data = dataset.ReadAsArray(0, 0, nXSize, nYSize)\n",
    "    return {\n",
    "        'name': Path(filePath).stem,\n",
    "        'mat': im_data,\n",
    "        'nodata': dataset.GetRasterBand(1).GetNoDataValue()\n",
    "    }"
   ]
  },
  {
   "cell_type": "code",
   "execution_count": 3,
   "metadata": {},
   "outputs": [],
   "source": [
    "def show_compare(file1: str, file2: str, nodata1=None, nodata2=None):\n",
    "    img1 = read_raster(file1)\n",
    "    img2 = read_raster(file2)\n",
    "\n",
    "    if img1['mat'].shape != img2['mat'].shape:\n",
    "        raise ValueError('images are in different shapes')\n",
    "\n",
    "    if nodata1 != None:\n",
    "        img1['nodata'] = nodata1\n",
    "    if nodata2 != None:\n",
    "        img2['nodata'] = nodata2\n",
    "\n",
    "    print(f'image1 nodata: {img1[\"nodata\"]}')\n",
    "    print(f'image2 nodata: {img2[\"nodata\"]}')\n",
    "\n",
    "    mask1 = (img1['mat'] != img1['nodata'])\n",
    "    print(f'image1 valid nums: {mask1.sum()}')\n",
    "    mask2 = (img2['mat'] != img2['nodata'])\n",
    "    print(f'image2 valid nums: {mask2.sum()}')\n",
    "    mask = (mask1 & mask2)\n",
    "    print(f'intersect mask nums: {mask.sum()}')\n",
    "\n",
    "    vec1 = img1['mat'][mask]\n",
    "    vec2 = img2['mat'][mask]\n",
    "\n",
    "    print('classification report:')\n",
    "\n",
    "    kappa = cohen_kappa_score(vec1, vec2)\n",
    "    print(f'kappa: {kappa:.4f}')\n",
    "\n",
    "    cr = classification_report(vec1, vec2, digits=4)\n",
    "    print(cr)"
   ]
  },
  {
   "cell_type": "code",
   "execution_count": 4,
   "metadata": {},
   "outputs": [
    {
     "name": "stdout",
     "output_type": "stream",
     "text": [
      "image1 nodata: 0.0\n",
      "image2 nodata: 0.0\n",
      "image1 valid nums: 2084361\n",
      "image2 valid nums: 2084361\n",
      "intersect mask nums: 2084361\n",
      "classification report:\n",
      "kappa: 0.8286\n",
      "              precision    recall  f1-score   support\n",
      "\n",
      "           1     0.6438    0.9825    0.7779     76128\n",
      "           2     0.9085    0.9279    0.9181    795885\n",
      "           3     0.5817    0.8962    0.7055     95238\n",
      "           4     0.6784    0.8953    0.7719     68979\n",
      "           5     0.9825    0.8600    0.9172   1048131\n",
      "\n",
      "    accuracy                         0.8932   2084361\n",
      "   macro avg     0.7590    0.9124    0.8181   2084361\n",
      "weighted avg     0.9135    0.8932    0.8980   2084361\n",
      "\n"
     ]
    }
   ],
   "source": [
    "show_compare('img/source.tif', 'img/result.tif')"
   ]
  }
 ],
 "metadata": {
  "kernelspec": {
   "display_name": "custom",
   "language": "python",
   "name": "python3"
  },
  "language_info": {
   "codemirror_mode": {
    "name": "ipython",
    "version": 3
   },
   "file_extension": ".py",
   "mimetype": "text/x-python",
   "name": "python",
   "nbconvert_exporter": "python",
   "pygments_lexer": "ipython3",
   "version": "3.11.4"
  },
  "orig_nbformat": 4
 },
 "nbformat": 4,
 "nbformat_minor": 2
}
